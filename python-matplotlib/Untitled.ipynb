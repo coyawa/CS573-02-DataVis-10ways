{
 "cells": [
  {
   "cell_type": "code",
   "execution_count": 1,
   "metadata": {
    "collapsed": false
   },
   "outputs": [
    {
     "ename": "Error",
     "evalue": "iterator should return strings, not bytes (did you open the file in text mode?)",
     "output_type": "error",
     "traceback": [
      "\u001b[0;31m---------------------------------------------------------------------------\u001b[0m",
      "\u001b[0;31mError\u001b[0m                                     Traceback (most recent call last)",
      "\u001b[0;32m<ipython-input-1-1f04e8853208>\u001b[0m in \u001b[0;36m<module>\u001b[0;34m()\u001b[0m\n\u001b[1;32m     13\u001b[0m \u001b[0;32mwith\u001b[0m \u001b[0mopen\u001b[0m\u001b[0;34m(\u001b[0m\u001b[0;34m'../cars-sample.csv'\u001b[0m\u001b[0;34m,\u001b[0m \u001b[0;34m'rb'\u001b[0m\u001b[0;34m)\u001b[0m \u001b[0;32mas\u001b[0m \u001b[0mf\u001b[0m\u001b[0;34m:\u001b[0m\u001b[0;34m\u001b[0m\u001b[0m\n\u001b[1;32m     14\u001b[0m         \u001b[0mspamreader\u001b[0m \u001b[0;34m=\u001b[0m \u001b[0mcsv\u001b[0m\u001b[0;34m.\u001b[0m\u001b[0mreader\u001b[0m\u001b[0;34m(\u001b[0m\u001b[0mf\u001b[0m\u001b[0;34m,\u001b[0m \u001b[0mdelimiter\u001b[0m\u001b[0;34m=\u001b[0m\u001b[0;34m','\u001b[0m\u001b[0;34m,\u001b[0m \u001b[0mquotechar\u001b[0m\u001b[0;34m=\u001b[0m\u001b[0;34m'\"'\u001b[0m\u001b[0;34m)\u001b[0m\u001b[0;34m\u001b[0m\u001b[0m\n\u001b[0;32m---> 15\u001b[0;31m         \u001b[0;32mfor\u001b[0m \u001b[0mrow\u001b[0m \u001b[0;32min\u001b[0m \u001b[0mspamreader\u001b[0m\u001b[0;34m:\u001b[0m\u001b[0;34m\u001b[0m\u001b[0m\n\u001b[0m\u001b[1;32m     16\u001b[0m                 \u001b[0;32mif\u001b[0m \u001b[0mrow\u001b[0m\u001b[0;34m[\u001b[0m\u001b[0;36m2\u001b[0m\u001b[0;34m]\u001b[0m \u001b[0;34m==\u001b[0m \u001b[0;34m\"ford\"\u001b[0m\u001b[0;34m:\u001b[0m\u001b[0;34m\u001b[0m\u001b[0m\n\u001b[1;32m     17\u001b[0m                         \u001b[0mford\u001b[0m\u001b[0;34m.\u001b[0m\u001b[0mappend\u001b[0m\u001b[0;34m(\u001b[0m\u001b[0mCar\u001b[0m\u001b[0;34m(\u001b[0m\u001b[0mrow\u001b[0m\u001b[0;34m[\u001b[0m\u001b[0;36m7\u001b[0m\u001b[0;34m]\u001b[0m\u001b[0;34m,\u001b[0m \u001b[0mrow\u001b[0m\u001b[0;34m[\u001b[0m\u001b[0;36m3\u001b[0m\u001b[0;34m]\u001b[0m\u001b[0;34m)\u001b[0m\u001b[0;34m)\u001b[0m\u001b[0;34m\u001b[0m\u001b[0m\n",
      "\u001b[0;31mError\u001b[0m: iterator should return strings, not bytes (did you open the file in text mode?)"
     ]
    }
   ],
   "source": [
    "import matplotlib.pyplot as plt\n",
    "import csv\n",
    "import numpy as np\n",
    "\n",
    "bubbles_mpl = plt.figure()\n",
    "\n",
    "ford = []\n",
    "bmw = []\n",
    "mercedes = []\n",
    "toyota = []\n",
    "honda = []\n",
    "\n",
    "with open('../cars-sample.csv', 'rb') as f:\n",
    "\tspamreader = csv.reader(f, delimiter=',', quotechar='\"')\n",
    "\tfor row in spamreader:\n",
    "\t\tif row[2] == \"ford\":\n",
    "\t\t\tford.append(Car(row[7], row[3]))\n",
    "\t\telif row[2] == \"mercedes\":\n",
    "\t\t\tmercedes.append(Car(row[7], row[3]))\n",
    "\t\telif row[2] == \"toyota\":\n",
    "\t\t\ttoyota.append(Car(row[7], row[3]))\n",
    "\t\telif row[2] == \"honda\":\n",
    "\t\t\thonda.append(Car(row[7], row[3]))\n",
    "\t\telif row[2] == \"bmw\":\n",
    "\t\t\tbmw.append(Car(row[7], row[3]))\n",
    "\t\telse:\n",
    "\t\t\tpass\n",
    "\n",
    "SIZE_CONSTANT = 35\n",
    "\n",
    "plt.xticks([f + 500 for f in np.arange(1500, 5000, 1000)])\n",
    "plt.yticks(np.arange(10, 50, 10))\n",
    "\n",
    "plt.scatter([f.weight for f in ford],[f.mpg for f in ford],s=[f.weight / SIZE_CONSTANT for f in ford], color=\"brown\", alpha=0.5)\n",
    "plt.scatter([f.weight for f in bmw],[f.mpg for f in bmw],s=[f.weight / SIZE_CONSTANT for f in bmw], c='red', alpha=0.5)\n",
    "plt.scatter([f.weight for f in honda],[f.mpg for f in honda],s=[f.weight / SIZE_CONSTANT for f in honda], c='green', alpha=0.5) \n",
    "plt.scatter([f.weight for f in mercedes],[f.mpg for f in mercedes],s=[f.weight / SIZE_CONSTANT for f in mercedes], c='blue', alpha=0.5) \n",
    "plt.scatter([f.weight for f in toyota],[f.mpg for f in toyota],s=[f.weight / SIZE_CONSTANT for f in toyota], c='pink', alpha=0.5) \n",
    "\n",
    "\n",
    "plt.show()"
   ]
  },
  {
   "cell_type": "code",
   "execution_count": null,
   "metadata": {
    "collapsed": true
   },
   "outputs": [],
   "source": []
  }
 ],
 "metadata": {
  "kernelspec": {
   "display_name": "Python 3",
   "language": "python",
   "name": "python3"
  },
  "language_info": {
   "codemirror_mode": {
    "name": "ipython",
    "version": 3
   },
   "file_extension": ".py",
   "mimetype": "text/x-python",
   "name": "python",
   "nbconvert_exporter": "python",
   "pygments_lexer": "ipython3",
   "version": "3.5.2"
  }
 },
 "nbformat": 4,
 "nbformat_minor": 1
}
