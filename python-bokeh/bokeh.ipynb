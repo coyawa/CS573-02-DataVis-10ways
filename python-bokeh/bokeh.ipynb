{
 "cells": [
  {
   "cell_type": "code",
   "execution_count": 31,
   "metadata": {
    "collapsed": false
   },
   "outputs": [
    {
     "name": "stderr",
     "output_type": "stream",
     "text": [
      "INFO:bokeh.core.state:Session output file 'python-bokeh.html' already exists, will be overwritten.\n"
     ]
    }
   ],
   "source": [
    "import pandas as pd\n",
    "from bokeh.plotting import figure, output_file, show\n",
    "from bokeh.models import FixedTicker\n",
    "data =pd.read_csv(\"cars-sample.csv\")\n",
    "\n",
    "x=data[\"Weight\"]\n",
    "y=data[\"MPG\"]\n",
    "\n",
    "colormap = {'bmw':'tomato','ford':'goldenrod','honda':'lightseagreen','mercedes':'lightskyblue','toyota':'blueviolet'}\n",
    "colors = [colormap[x] for x in data['Manufacturer']]\n",
    "\n",
    "p = figure(width=600, height=500, x_range=[1500, 5000], y_range=[5, 50],)\n",
    "p.xaxis.axis_label = 'Weigh'\n",
    "p.yaxis.axis_label = 'MPG'\n",
    "p.yaxis.axis_label_text_font_style = \"normal\"\n",
    "p.yaxis.axis_label_text_font_style = \"bold\"\n",
    "p.xaxis.axis_label_text_font_style = \"normal\"\n",
    "p.xaxis.axis_label_text_font_style = \"bold\"\n",
    "p.xaxis[0].ticker = FixedTicker(ticks=[2000,3000,4000,5000])\n",
    "p.yaxis[0].ticker = FixedTicker(ticks=[10,20,30,40,50])\n",
    "\n",
    "p.circle(x, y, radius=size, color=colors, alpha=0.5,line_color=None)\n",
    "\n",
    "output_file(\"python-bokeh.html\")\n",
    "\n",
    "show(p)"
   ]
  },
  {
   "cell_type": "code",
   "execution_count": null,
   "metadata": {
    "collapsed": true
   },
   "outputs": [],
   "source": []
  }
 ],
 "metadata": {
  "kernelspec": {
   "display_name": "Python 3",
   "language": "python",
   "name": "python3"
  },
  "language_info": {
   "codemirror_mode": {
    "name": "ipython",
    "version": 3
   },
   "file_extension": ".py",
   "mimetype": "text/x-python",
   "name": "python",
   "nbconvert_exporter": "python",
   "pygments_lexer": "ipython3",
   "version": "3.5.2"
  }
 },
 "nbformat": 4,
 "nbformat_minor": 1
}
