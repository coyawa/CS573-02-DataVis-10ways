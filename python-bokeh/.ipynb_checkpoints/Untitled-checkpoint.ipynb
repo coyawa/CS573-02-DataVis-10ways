{
 "cells": [
  {
   "cell_type": "code",
   "execution_count": null,
   "metadata": {
    "collapsed": true
   },
   "outputs": [],
   "source": [
    "from bokeh.plotting import figure, output_file, show\n",
    "import pandas as pd\n",
    "cars=pd.read_csv(\"cars-sample.csv\")\n",
    "\n",
    "cars.dropna(axis=0,inplace=True)\n",
    "plot = figure(width=500, height=500)\n",
    "weight=cars[\"Weight\"]\n",
    "MPG=cars[\"MPG\"]\n",
    "Manu={'bmw':'tomato','ford':'goldenrod','honda':'lightseagreen','mercedes':'lightskyblue',,'toyota':'blueviolet'}\n",
    "c=[]\n",
    "for i in cars['Manufacturer']:\n",
    "    c.append(Manu[i])\n",
    "plot.circle(x=weight, y=MPG, size=weight/300,color=c, alpha=0.5)\n",
    "\n",
    "show(plot)"
   ]
  }
 ],
 "metadata": {
  "kernelspec": {
   "display_name": "Python 3",
   "language": "python",
   "name": "python3"
  },
  "language_info": {
   "codemirror_mode": {
    "name": "ipython",
    "version": 3
   },
   "file_extension": ".py",
   "mimetype": "text/x-python",
   "name": "python",
   "nbconvert_exporter": "python",
   "pygments_lexer": "ipython3",
   "version": "3.5.2"
  }
 },
 "nbformat": 4,
 "nbformat_minor": 1
}
