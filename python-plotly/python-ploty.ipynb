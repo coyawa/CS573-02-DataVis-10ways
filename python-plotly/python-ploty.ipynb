{
 "cells": [
  {
   "cell_type": "code",
   "execution_count": null,
   "metadata": {
    "collapsed": false
   },
   "outputs": [],
   "source": []
  },
  {
   "cell_type": "code",
   "execution_count": 12,
   "metadata": {
    "collapsed": false
   },
   "outputs": [
    {
     "data": {
      "text/html": [
       "<iframe id=\"igraph\" scrolling=\"no\" style=\"border:none;\" seamless=\"seamless\" src=\"https://plot.ly/~wangcongyang/16.embed\" height=\"700px\" width=\"760px\"></iframe>"
      ],
      "text/plain": [
       "<plotly.tools.PlotlyDisplay object>"
      ]
     },
     "execution_count": 12,
     "metadata": {},
     "output_type": "execute_result"
    }
   ],
   "source": [
    "import pandas as pd\n",
    "import plotly.plotly as py\n",
    "import plotly.graph_objs as go\n",
    "\n",
    "a2 = pd.read_csv(\"/Users/Coyawa/Git/02-DataVis-10ways/python-plotly/cars-sample.csv\")\n",
    "a2.head()\n",
    "\n",
    "bmw = go.Scatter(\n",
    "                   x = a2['Weight'][a2['Manufacturer'] == 'bmw'],\n",
    "                   y = a2['MPG'][a2['Manufacturer'] == 'bmw'],\n",
    "                   mode = 'markers',\n",
    "                   name='bmw',\n",
    "                   marker = dict(\n",
    "                       size = a2['Weight'][a2['Manufacturer'] == 'bmw']/200,\n",
    "                       opacity = 0.5,\n",
    "                       color = 'tomato'\n",
    "                   )\n",
    ")\n",
    "\n",
    "ford = go.Scatter(\n",
    "                   x = a2['Weight'][a2['Manufacturer'] == 'ford'],\n",
    "                   y = a2['MPG'][a2['Manufacturer'] == 'ford'],\n",
    "                   mode = 'markers',\n",
    "                   name='ford',\n",
    "                   marker = dict(\n",
    "                       size = a2['Weight'][a2['Manufacturer'] == 'ford']/200,\n",
    "                       opacity = 0.5,\n",
    "                       color = 'goldenrod'\n",
    "                   )\n",
    ")\n",
    "\n",
    "honda = go.Scatter(\n",
    "                   x = a2['Weight'][a2['Manufacturer'] == 'honda'],\n",
    "                   y = a2['MPG'][a2['Manufacturer'] == 'honda'],\n",
    "                   mode = 'markers',\n",
    "                   name='honda',\n",
    "                   marker = dict(\n",
    "                       size = a2['Weight'][a2['Manufacturer'] == 'honda']/200,\n",
    "                       opacity = 0.5,\n",
    "                       color = 'lightseagreen'\n",
    "                   )\n",
    ")\n",
    "\n",
    "mercedes = go.Scatter(\n",
    "                   x = a2['Weight'][a2['Manufacturer'] == 'mercedes'],\n",
    "                   y = a2['MPG'][a2['Manufacturer'] == 'mercedes'],\n",
    "                   mode = 'markers',\n",
    "                   name='mercedes',\n",
    "                   marker = dict(\n",
    "                       size = a2['Weight'][a2['Manufacturer'] == 'mercedes']/200,\n",
    "                       opacity = 0.5,\n",
    "                       color = 'lightskyblue'\n",
    "                   )\n",
    ")\n",
    "\n",
    "toyota = go.Scatter(\n",
    "                   x = a2['Weight'][a2['Manufacturer'] == 'toyota'],\n",
    "                   y = a2['MPG'][a2['Manufacturer'] == 'toyota'],\n",
    "                   mode = 'markers',\n",
    "                   name='toyota',\n",
    "                   marker = dict(\n",
    "                       size = a2['Weight'][a2['Manufacturer'] == 'toyota']/200,\n",
    "                       opacity = 0.5,\n",
    "                       color = 'blueviolet'\n",
    "                   )\n",
    ")\n",
    "\n",
    "layout = go.Layout(\n",
    "     width=760,\n",
    "     height=700,\n",
    "     xaxis = dict(\n",
    "                  title = 'Weight'\n",
    "                  ),\n",
    "     yaxis = dict(\n",
    "                 title = 'MPG'\n",
    "                  ),\n",
    "                   )\n",
    "\n",
    "data = [bmw, ford, honda, mercedes, toyota]\n",
    "fig = go.Figure(data = data, layout = layout)\n",
    "py.iplot(fig, filename='A2-Congyang')"
   ]
  },
  {
   "cell_type": "code",
   "execution_count": null,
   "metadata": {
    "collapsed": false
   },
   "outputs": [],
   "source": []
  },
  {
   "cell_type": "code",
   "execution_count": null,
   "metadata": {
    "collapsed": true
   },
   "outputs": [],
   "source": []
  }
 ],
 "metadata": {
  "kernelspec": {
   "display_name": "Python 3",
   "language": "python",
   "name": "python3"
  },
  "language_info": {
   "codemirror_mode": {
    "name": "ipython",
    "version": 3
   },
   "file_extension": ".py",
   "mimetype": "text/x-python",
   "name": "python",
   "nbconvert_exporter": "python",
   "pygments_lexer": "ipython3",
   "version": "3.5.2"
  }
 },
 "nbformat": 4,
 "nbformat_minor": 1
}
